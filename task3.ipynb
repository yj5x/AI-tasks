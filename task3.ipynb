{
  "nbformat": 4,
  "nbformat_minor": 0,
  "metadata": {
    "colab": {
      "private_outputs": true,
      "provenance": [],
      "authorship_tag": "ABX9TyPcP63cusHrS0CqQReyQjt8",
      "include_colab_link": true
    },
    "kernelspec": {
      "name": "python3",
      "display_name": "Python 3"
    },
    "language_info": {
      "name": "python"
    }
  },
  "cells": [
    {
      "cell_type": "markdown",
      "metadata": {
        "id": "view-in-github",
        "colab_type": "text"
      },
      "source": [
        "<a href=\"https://colab.research.google.com/github/yj5x/AI-tasks/blob/main/task3.ipynb\" target=\"_parent\"><img src=\"https://colab.research.google.com/assets/colab-badge.svg\" alt=\"Open In Colab\"/></a>"
      ]
    },
    {
      "cell_type": "markdown",
      "source": [
        "#تحليل بيانات العملاء في متجر إلكتروني\n",
        "\n",
        "##الهدف:\n",
        "\n",
        "##تحليل بيانات العملاء من متجر إلكتروني باستخدام تقنيات\n",
        "\n",
        "##Unsupervised Learning\n",
        "##(التعلم غير الخاضع للإشراف)\n",
        "\n",
        "\n",
        "##لفهم أنماط الشراء وسلوك المستخدمين، واقتراح استراتيجيات لتحسين التسويق"
      ],
      "metadata": {
        "id": "hsdONFKNGxrH"
      }
    },
    {
      "cell_type": "markdown",
      "source": [],
      "metadata": {
        "id": "5LAV5OvFHxTF"
      }
    },
    {
      "cell_type": "markdown",
      "source": [
        "## 1. تحميل المكتبات\n",
        "- استيراد المكتبات الأساسية مثل `pandas`, `numpy`, `matplotlib`, `seaborn`\n",
        "\n",
        "## 2. تحميل البيانات\n",
        "- ربط جوجل كولاب\n",
        "- قراءة ملف CSV وحفظه في DataFrame\n",
        "\n",
        "\n"
      ],
      "metadata": {
        "id": "vGZbuJIrIG3V"
      }
    },
    {
      "cell_type": "code",
      "execution_count": null,
      "metadata": {
        "id": "CCx_sR5H10N2"
      },
      "outputs": [],
      "source": [
        "# ============================\n",
        "#           المكتبات\n",
        "# ============================\n",
        "\n",
        "import pandas as pd\n",
        "import numpy as np\n",
        "import matplotlib.pyplot as plt\n",
        "import seaborn as sns\n",
        "\n",
        "# ============================\n",
        "#         تحميل البيانات\n",
        "# ============================\n",
        "\n",
        "from google.colab import drive\n",
        "drive.mount('/content/drive')\n",
        "\n",
        "data = pd.read_csv('/content/drive/MyDrive/AI in business /CC_GENERAL.csv')\n",
        "df = data.copy()\n"
      ]
    },
    {
      "cell_type": "markdown",
      "source": [
        "## 3. استكشاف البيانات (EDA)\n",
        "- عرض شكل البيانات (صفوف وأعمدة)\n",
        "- عرض عينة من البيانات\n",
        "- فحص أنواع البيانات والقيم المفقودة\n",
        "- حذف الأعمدة غير الضرورية\n",
        "- تعبئة القيم المفقودة"
      ],
      "metadata": {
        "id": "8RV7waRCHu6t"
      }
    },
    {
      "cell_type": "code",
      "source": [
        "\n",
        "# ============================\n",
        "#       استكشاف البيانات\n",
        "# ============================\n",
        "\n",
        "# عدد الصفوف والأعمدة\n",
        "display(\"Number of rows and columns\", df.shape)\n",
        "print(\"\\n\")\n",
        "\n",
        "# أول 5 صفوف من البيانات\n",
        "display(df.head())\n",
        "print(\"\\n\")\n",
        "\n",
        "# أنواع البيانات والقيم المفقودة\n",
        "df.info()\n",
        "display(df.isnull().sum())\n",
        "print(\"\\n\")\n"
      ],
      "metadata": {
        "id": "gKzDE7M56bTb"
      },
      "execution_count": null,
      "outputs": []
    },
    {
      "cell_type": "code",
      "source": [
        "\n",
        "# نظرة على محتوى كل عمود\n",
        "for col in df.columns:\n",
        "    display(f\"{col}: {df[col].unique()[:5],}\")\n",
        "    display('='*100)\n",
        "\n",
        "# حذف البيانات غير المفيدة\n",
        "df.drop('CUST_ID', axis=1, inplace=True)\n",
        "\n",
        "# تعبئة القيم الناقصة\n",
        "df.fillna(df.mean(), inplace=True)\n",
        "\n",
        "# لعرض القيم المفقودة إن وُجدت\n",
        "display(df.isnull().sum())\n",
        "\n"
      ],
      "metadata": {
        "id": "0ifh88hSBYAv"
      },
      "execution_count": null,
      "outputs": []
    },
    {
      "cell_type": "markdown",
      "source": [
        "## 4. تحجيم البيانات (Scaling)\n",
        "- توحيد مقاييس البيانات باستخدام `StandardScaler"
      ],
      "metadata": {
        "id": "XBm0Q9FKLBQz"
      }
    },
    {
      "cell_type": "code",
      "source": [
        "# ============================\n",
        "#         Scaling\n",
        "# ============================\n",
        "\n",
        "from sklearn.preprocessing import StandardScaler\n",
        "\n",
        "scaler = StandardScaler()\n",
        "df_scaled = scaler.fit_transform(df)\n",
        "df_scaled = pd.DataFrame(df_scaled, columns=df.columns)\n",
        "\n",
        "df_scaled.head()"
      ],
      "metadata": {
        "id": "v4w3I6odBXv0"
      },
      "execution_count": null,
      "outputs": []
    },
    {
      "cell_type": "markdown",
      "source": [
        "### 5. التحليل العنقودي الهرمي (Dendrogram)\n",
        "- إنشاء Dendrogram\n",
        "\n",
        "\n",
        "- لتحديد عدد الاعناقيد"
      ],
      "metadata": {
        "id": "WAlgU4TbLUDW"
      }
    },
    {
      "cell_type": "code",
      "source": [
        "# ============================\n",
        "#        Dendrogram\n",
        "# ============================\n",
        "\n",
        "from scipy.cluster.hierarchy import linkage, dendrogram\n",
        "\n",
        "Z = linkage(df_scaled, 'ward')\n",
        "\n",
        "\n",
        "plt.figure(figsize=(10, 4))\n",
        "dendrogram(Z, truncate_mode='lastp', p=12, show_leaf_counts=True, leaf_font_size=8)\n",
        "plt.title('Dendrogram')\n",
        "plt.xlabel('customers')\n",
        "plt.ylabel('distance')\n",
        "plt.axhline(y=30, color='r', linestyle='--')\n",
        "plt.show()\n",
        "\n"
      ],
      "metadata": {
        "id": "8NipbADUXSpG"
      },
      "execution_count": null,
      "outputs": []
    },
    {
      "cell_type": "markdown",
      "source": [
        "## 6. طريقة الكوع (Elbow Method)\n",
        "\n",
        "- تحديد العدد الأمثل للعناقيد باستخدام K-Means"
      ],
      "metadata": {
        "id": "8g8nLnQ6LevP"
      }
    },
    {
      "cell_type": "code",
      "source": [
        "\n",
        "# ============================\n",
        "#   Elbow Method for KMeans\n",
        "# ============================\n",
        "\n",
        "from sklearn.cluster import KMeans\n",
        "\n",
        "inertia = []\n",
        "\n",
        "# افتراض قيمه k\n",
        "for k in range(1,50):\n",
        "    kmeans = KMeans(n_clusters=k, random_state=42)\n",
        "    kmeans.fit(df_scaled)\n",
        "    inertia.append(kmeans.inertia_)\n",
        "\n",
        "#  هنا حشوف عالرسمه متى يبدء المنحنى يستقر واحد قيمه K\n",
        "plt.plot( inertia, marker='o')\n",
        "plt.title('The Elbow Method')\n",
        "plt.xlabel('Number of clusters')\n",
        "plt.ylabel('Inertia')\n",
        "plt.grid(True)\n",
        "plt.show()\n"
      ],
      "metadata": {
        "id": "SWnKJK2P6bEx"
      },
      "execution_count": null,
      "outputs": []
    },
    {
      "cell_type": "markdown",
      "source": [
        "## 7. التحليل العنقودي بـ K-Means\n",
        "- تطبيق خوارزمية K-Means\n",
        "- تصور النتائج باستخدام PCA\n",
        "- تقييم النموذج باستخدام Silhouette Score\n",
        "- مقارنة متوسطات القيم لكل عنقود\n",
        "- إنشاء رسوم بيانية للسلوك العام لكل مجموعة"
      ],
      "metadata": {
        "id": "2zEMgeAFMtaQ"
      }
    },
    {
      "cell_type": "code",
      "source": [
        "K = 12\n",
        "# ============================\n",
        "#     K-Means Clustering\n",
        "# ============================\n",
        "\n",
        "from sklearn.cluster import KMeans\n",
        "from sklearn.decomposition import PCA\n",
        "from sklearn.metrics import silhouette_score\n",
        "\n",
        "kmeans = KMeans(n_clusters=K, random_state=42, n_init=10)\n",
        "clusters = kmeans.fit_predict(df_scaled)\n",
        "\n",
        "df_scaled['Cluster_KMeans'] = clusters\n",
        "\n",
        "#\n",
        "pca = PCA(n_components=2)\n",
        "pca_components = pca.fit_transform(df_scaled.drop('Cluster_KMeans', axis=1))\n",
        "\n",
        "\n",
        "#\n",
        "plt.figure(figsize=(8, 6))\n",
        "plt.scatter(pca_components[:, 0], pca_components[:, 1], c=clusters, cmap='viridis', s=50)\n",
        "plt.title('K-Means Clustering (with PCA)')\n",
        "plt.xlabel('PCA Component 1')\n",
        "plt.ylabel('PCA Component 2')\n",
        "plt.grid(True)\n",
        "plt.colorbar(label='Cluster ID')\n",
        "plt.show()\n",
        "\n",
        "\n",
        "# ============================\n",
        "#       تقييم - KMeans\n",
        "# ============================\n",
        "\n",
        "score = silhouette_score(df_scaled.drop('Cluster_KMeans', axis=1), clusters)\n",
        "print(f'Silhouette Score for K-Means: {score:.3f}')\n",
        "\n",
        "\n",
        "\n",
        "# ============================\n",
        "#           التباين\n",
        "# ============================\n",
        "\n",
        "explained_var = pca.explained_variance_ratio_\n",
        "print(f\"Explained Variance Ratio: {np.round(explained_var,2)}\")\n",
        "print(f\"cumulative_variance: {np.round(np.cumsum(explained_var),2)}\")\n",
        "print(f\"Total Variance Retained: {np.round(np.sum(explained_var)*100,2)}%\")"
      ],
      "metadata": {
        "id": "QkS0a2Pq7h9P"
      },
      "execution_count": null,
      "outputs": []
    },
    {
      "cell_type": "code",
      "source": [
        "# ============================\n",
        "#  ربط العناقيد بالبيانات\n",
        "# ============================\n",
        "\n",
        "df['Cluster'] = clusters\n",
        "\n",
        "\n",
        "# ==================================\n",
        "#  عرض بيانات كل عنقود او مجموعه\n",
        "# ==================================\n",
        "cluster_profiles = df.groupby('Cluster').mean()\n",
        "display(cluster_profiles)\n",
        "\n",
        "\n"
      ],
      "metadata": {
        "id": "Mb5yU1G96wRK"
      },
      "execution_count": null,
      "outputs": []
    },
    {
      "cell_type": "code",
      "source": [
        "# ============================\n",
        "#     الرسم البياني للنتائج\n",
        "# ============================\n",
        "\n",
        "#\n",
        "clustered_df = df.copy()\n",
        "cluster_means = clustered_df.groupby('Cluster').mean()\n",
        "\n",
        "cluster_means[['BALANCE', 'PURCHASES', 'PAYMENTS']].plot(kind='bar', figsize=(10, 6))\n",
        "plt.title('Average Behavior per Cluster')\n",
        "plt.ylabel('Amount')\n",
        "plt.xlabel('Cluster')\n",
        "plt.grid(True)\n",
        "plt.show()"
      ],
      "metadata": {
        "id": "XBxtWRkvpfJ9"
      },
      "execution_count": null,
      "outputs": []
    },
    {
      "cell_type": "markdown",
      "source": [
        "## 8. التحليل العنقودي بستخدامDBSCAN\n",
        "- تطبيق خوارزمية DBSCAN\n",
        "- تصور النتائج ثنائية وثلاثية الأبعاد\n",
        "- تقييم النموذج\n",
        "- مقارنة متوسطات القيم لكل عنقود\n",
        "- إنشاء رسوم بيانية للسلوك العام لكل مجموعة\n"
      ],
      "metadata": {
        "id": "Dd78AmU6M4TA"
      }
    },
    {
      "cell_type": "code",
      "source": [
        "\n",
        "\n",
        "# ============================\n",
        "#     اختيار eps - DBSCAN\n",
        "# ============================\n",
        "\n",
        "from sklearn.neighbors import NearestNeighbors\n",
        "\n",
        "neigh = NearestNeighbors(n_neighbors=5)\n",
        "nbrs = neigh.fit(df_scaled)\n",
        "distances, indices = nbrs.kneighbors(df_scaled)\n",
        "\n",
        "distances = np.sort(distances[:, 4], axis=0)\n",
        "plt.plot(distances)\n",
        "plt.title('k-distance Graph to Determine eps')\n",
        "plt.xlabel('Points sorted by distance')\n",
        "plt.ylabel('4th Nearest Neighbor Distance')\n",
        "plt.grid(True)\n",
        "plt.show()\n",
        "\n",
        "\n",
        "\n"
      ],
      "metadata": {
        "id": "7CA4NXvi6wLv"
      },
      "execution_count": null,
      "outputs": []
    },
    {
      "cell_type": "code",
      "source": [
        "\n",
        "# ============================\n",
        "#           DBSCAN\n",
        "# ============================\n",
        "\n",
        "from sklearn.cluster import DBSCAN\n",
        "\n",
        "\n",
        "dbscan = DBSCAN(eps=2, min_samples=5)\n",
        "dbscan_labels = dbscan.fit_predict(df_scaled)\n",
        "\n",
        "# رسمه PCA\n",
        "pca = PCA(n_components=2)\n",
        "pca_data = pca.fit_transform(df_scaled)\n",
        "\n",
        "df['PCA1'] = pca_data[:, 0]\n",
        "df['PCA2'] = pca_data[:, 1]\n",
        "df['Cluster_DBSCAN'] = dbscan_labels\n",
        "\n",
        "plt.figure(figsize=(7, 4))\n",
        "sns.scatterplot(data=df, x='PCA1', y='PCA2', hue='Cluster', palette='Set1')\n",
        "plt.title('DBSCAN Clusters (PCA Reduced)')\n",
        "plt.grid(True)\n",
        "plt.show()\n",
        "\n",
        "\n",
        "# ============================\n",
        "#   تقييم DBSCAN (Silhouette)\n",
        "# ============================\n",
        "\n",
        "mask = df['Cluster_DBSCAN'] != -1\n",
        "score = silhouette_score(df_scaled[mask], df['Cluster_DBSCAN'][mask])\n",
        "print(f\"Silhouette Score for DBSCAN: {score:.3f}\")\n",
        "\n",
        "\n",
        "\n",
        "# ============================\n",
        "#           التباين\n",
        "# ============================\n",
        "\n",
        "explained_var = pca.explained_variance_ratio_\n",
        "display(f\"Explained Variance Ratio: {np.round(explained_var,2)}\")\n",
        "display(f\"cumulative_variance: {np.round(np.cumsum(explained_var),2)}\")\n",
        "display(f\"Total Variance Retained: {np.round(np.sum(explained_var)*100,2)}%\")"
      ],
      "metadata": {
        "id": "O8nvVGm66wNx"
      },
      "execution_count": null,
      "outputs": []
    },
    {
      "cell_type": "code",
      "source": [
        "# ============================\n",
        "#      بيانات كل مجموعة\n",
        "# ============================\n",
        "cluster_summary = df.groupby('Cluster_DBSCAN').mean()\n",
        "display(cluster_summary)\n"
      ],
      "metadata": {
        "id": "NSsCTM7cAWPJ"
      },
      "execution_count": null,
      "outputs": []
    },
    {
      "cell_type": "code",
      "source": [
        "# ============================\n",
        "#     الرسم البياني للنتائج\n",
        "# ============================\n",
        "\n",
        "clustered_df = df.copy()\n",
        "cluster_means = clustered_df.groupby('Cluster_DBSCAN').mean()\n",
        "\n",
        "cluster_means[['BALANCE', 'PURCHASES', 'PAYMENTS']].plot(kind='bar', figsize=(10, 6))\n",
        "plt.title('Average Behavior per Cluster')\n",
        "plt.ylabel('Amount')\n",
        "plt.xlabel('Cluster')\n",
        "plt.grid(True)\n",
        "plt.show()"
      ],
      "metadata": {
        "id": "0lIg0TLVpD-I"
      },
      "execution_count": null,
      "outputs": []
    },
    {
      "cell_type": "code",
      "source": [
        "# ============================\n",
        "#     رسم PCA ثلاثي الأبعاد\n",
        "# ============================\n",
        "\n",
        "from mpl_toolkits.mplot3d import Axes3D\n",
        "\n",
        "pca_3d = PCA(n_components=3)\n",
        "pca_data_3d = pca_3d.fit_transform(df_scaled)\n",
        "\n",
        "df['Cluster_DBSCAN_3d']= dbscan_labels\n",
        "\n",
        "\n",
        "\n",
        "fig = plt.figure(figsize=(10, 7))\n",
        "ax = fig.add_subplot(111, projection='3d')\n",
        "ax.scatter(pca_data_3d[:, 0], pca_data_3d[:, 1], pca_data_3d[:, 2], c=df['Cluster'], cmap='Set1', s=15)\n",
        "ax.set_title('3D PCA Visualization of DBSCAN Clusters')\n",
        "plt.show()\n",
        "\n",
        "\n",
        "# ============================\n",
        "#   تقييم DBSCAN_3ي (Silhouette)\n",
        "# ============================\n",
        "\n",
        "mask = df['Cluster_DBSCAN_3d'] != -1\n",
        "score = silhouette_score(df_scaled[mask], df['Cluster_DBSCAN_3d'][mask])\n",
        "print(f\"Silhouette Score for DBSCAN_3d: {score:.3f}\")\n",
        "\n",
        "\n",
        "\n",
        "# ============================\n",
        "#           التباين\n",
        "# ============================\n",
        "\n",
        "explained_var_3d = pca_3d.explained_variance_ratio_\n",
        "display(f\"Explained Variance Ratio: {np.round(explained_var_3d,2)}\")\n",
        "display(f\"cumulative_variance: {np.round(np.cumsum(explained_var_3d),2)}\")\n",
        "display(f\"Total Variance Retained: {np.round(np.sum(explained_var_3d)*100,2)}%\")"
      ],
      "metadata": {
        "id": "VWuUQU5x8Swt"
      },
      "execution_count": null,
      "outputs": []
    },
    {
      "cell_type": "code",
      "source": [],
      "metadata": {
        "id": "B-pT_wpUzl2P"
      },
      "execution_count": null,
      "outputs": []
    },
    {
      "cell_type": "code",
      "source": [
        "# ============================\n",
        "#      بيانات كل مجموعة\n",
        "# ============================\n",
        "\n",
        "cluster_summary_3d = df.groupby('Cluster_DBSCAN_3d').mean()\n",
        "display(cluster_summary_3d)\n"
      ],
      "metadata": {
        "id": "uG79h1Lrzmqp"
      },
      "execution_count": null,
      "outputs": []
    },
    {
      "cell_type": "code",
      "source": [
        "# ============================\n",
        "#     الرسم البياني للنتائج\n",
        "# ============================\n",
        "\n",
        "clustered_df = df.copy()\n",
        "cluster_means = clustered_df.groupby('Cluster_DBSCAN_3d').mean()\n",
        "\n",
        "cluster_means[['BALANCE', 'PURCHASES', 'PAYMENTS']].plot(kind='bar', figsize=(10, 6))\n",
        "plt.title('Average Behavior per Cluster')\n",
        "plt.ylabel('Amount')\n",
        "plt.xlabel('Cluster')\n",
        "plt.grid(True)\n",
        "plt.show()"
      ],
      "metadata": {
        "id": "blwch_rIzmqp"
      },
      "execution_count": null,
      "outputs": []
    },
    {
      "cell_type": "markdown",
      "source": [
        "## 9. التحليل العنقودي الهرمي (Agglomerative)\n",
        "- تطبيق خوارزمية Agglomerative Clustering\n",
        "- تصور النتائج وتقييمها\n",
        "- مقارنة متوسطات القيم لكل عنقود\n",
        "- إنشاء رسوم بيانية للسلوك العام لكل مجموعة"
      ],
      "metadata": {
        "id": "F0q1bmLCNcUs"
      }
    },
    {
      "cell_type": "code",
      "source": [
        "# ============================\n",
        "#   Agglomerative Clustering\n",
        "# ============================\n",
        "\n",
        "from sklearn.cluster import AgglomerativeClustering\n",
        "\n",
        "\n",
        "agglo = AgglomerativeClustering(n_clusters=K)\n",
        "\n",
        "agglo_labels = agglo.fit_predict(df_scaled)\n",
        "\n",
        "df['agglo_labels'] = agglo_labels\n",
        "\n",
        "\n",
        "#\n",
        "pca = PCA(n_components=2)\n",
        "pca_data = pca.fit_transform(df_scaled)\n",
        "\n",
        "\n",
        "plt.figure(figsize=(8,6))\n",
        "plt.scatter(pca_data[:, 0], pca_data[:, 1],c=df['agglo_labels'], cmap='Set1', s=15)\n",
        "plt.title('Agglomerative Clustering (PCA)')\n",
        "plt.xlabel('PCA 1')\n",
        "plt.ylabel('PCA 2')\n",
        "plt.grid(True)\n",
        "plt.show()\n",
        "\n",
        "\n",
        "# ============================\n",
        "#   تقييم Agglomerative (Silhouette)\n",
        "# ============================\n",
        "\n",
        "from sklearn.metrics import silhouette_score\n",
        "\n",
        "score_agglo = silhouette_score(df_scaled, agglo_labels)\n",
        "print(f'Silhouette Score for Agglomerative: {score_agglo:.3f}')\n",
        "\n",
        "# ============================\n",
        "#          التباين\n",
        "# ============================\n",
        "\n",
        "explained_var = pca.explained_variance_ratio_\n",
        "display(f\"Explained Variance Ratio: {np.round(explained_var,2),}\")\n",
        "display(f\"cumulative_variance: {np.round(np.cumsum(explained_var),2),}\")\n",
        "display(f\"Total Variance Retained: {np.round(np.sum(explained_var)*100,2)}%\")"
      ],
      "metadata": {
        "id": "zrUFXPKMV9Jx"
      },
      "execution_count": null,
      "outputs": []
    },
    {
      "cell_type": "code",
      "source": [
        "# ============================\n",
        "#       بيانات كل مجموعة\n",
        "# ============================\n",
        "cluster_summary = df.groupby('agglo_labels').mean()\n",
        "display(cluster_summary)"
      ],
      "metadata": {
        "id": "BmwlevuLlv-H"
      },
      "execution_count": null,
      "outputs": []
    },
    {
      "cell_type": "code",
      "source": [
        "# ============================\n",
        "#     الرسم البياني للنتائج\n",
        "# ============================\n",
        "\n",
        "clustered_df = df.copy()\n",
        "cluster_means = clustered_df.groupby('agglo_labels').mean()\n",
        "\n",
        "cluster_means[['BALANCE', 'PURCHASES', 'PAYMENTS']].plot(kind='bar', figsize=(10, 6))\n",
        "plt.title('Average Behavior per Cluster')\n",
        "plt.ylabel('Amount')\n",
        "plt.xlabel('Cluster')\n",
        "plt.grid(True)\n",
        "plt.show()"
      ],
      "metadata": {
        "id": "H8c8hvIq6wIC"
      },
      "execution_count": null,
      "outputs": []
    },
    {
      "cell_type": "code",
      "source": [],
      "metadata": {
        "id": "GfIlN7gyWOlB"
      },
      "execution_count": null,
      "outputs": []
    },
    {
      "cell_type": "code",
      "source": [],
      "metadata": {
        "id": "dYvG_64eWOiX"
      },
      "execution_count": null,
      "outputs": []
    }
  ]
}