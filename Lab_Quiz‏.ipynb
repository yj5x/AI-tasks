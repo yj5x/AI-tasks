{
  "nbformat": 4,
  "nbformat_minor": 0,
  "metadata": {
    "colab": {
      "private_outputs": true,
      "provenance": [],
      "include_colab_link": true
    },
    "kernelspec": {
      "name": "python3",
      "display_name": "Python 3"
    },
    "language_info": {
      "name": "python"
    }
  },
  "cells": [
    {
      "cell_type": "markdown",
      "metadata": {
        "id": "view-in-github",
        "colab_type": "text"
      },
      "source": [
        "<a href=\"https://colab.research.google.com/github/yj5x/AI-tasks/blob/main/Lab_Quiz%E2%80%8F.ipynb\" target=\"_parent\"><img src=\"https://colab.research.google.com/assets/colab-badge.svg\" alt=\"Open In Colab\"/></a>"
      ]
    },
    {
      "cell_type": "code",
      "metadata": {
        "id": "b4f770bf"
      },
      "source": [
        "!pip install streamlit-drawable-canvas"
      ],
      "execution_count": null,
      "outputs": []
    },
    {
      "cell_type": "code",
      "source": [
        "%%writefile app.py\n",
        "import torchvision\n",
        "import matplotlib.pyplot as plt\n",
        "import torch\n",
        "import torch.nn as nn\n",
        "import torch.nn.functional as F\n",
        "import numpy as np\n",
        "from PIL import Image\n",
        "\n",
        "import torchvision.transforms as transforms\n",
        "from streamlit_drawable_canvas import st_canvas\n",
        "import torch.nn as nn\n",
        "import streamlit as st\n",
        "import torch.optim as optim"
      ],
      "metadata": {
        "id": "POjSLh3pgkW2"
      },
      "execution_count": null,
      "outputs": []
    },
    {
      "cell_type": "code",
      "source": [
        "\n",
        "\n",
        "transform = transforms.Compose([transforms.ToTensor()])\n",
        "trainset = torchvision.datasets.MNIST(root='./data', train=True, download=True, transform=transform)\n",
        "testset = torchvision.datasets.MNIST(root='./data', train=False, download=True, transform=transform)\n",
        "\n",
        "trainloader = torch.utils.data.DataLoader(trainset, batch_size=64, shuffle=True)\n",
        "testloader = torch.utils.data.DataLoader(testset, batch_size=64, shuffle=False)"
      ],
      "metadata": {
        "id": "FqM61yJCfh81"
      },
      "execution_count": null,
      "outputs": []
    },
    {
      "cell_type": "code",
      "source": [
        "for images, labels in trainloader:\n",
        "    break\n",
        "\n",
        "plt.imshow(images[0].squeeze(), cmap='gray')\n",
        "plt.axis('off')\n",
        "plt.title(f\"Label: {labels[0].item()}\")\n",
        "plt.show()\n"
      ],
      "metadata": {
        "id": "KifFOeWcfh4F"
      },
      "execution_count": null,
      "outputs": []
    },
    {
      "cell_type": "code",
      "source": [
        "#  CNN\n",
        "\n",
        "class CNN(nn.Module):\n",
        "    def __init__(self):\n",
        "        super().__init__()\n",
        "        self.conv = nn.Conv2d(1, 8, 3)\n",
        "        self.relu = nn.ReLU()\n",
        "        self.pool = nn.MaxPool2d(2)\n",
        "        self.flatten = nn.Flatten()\n",
        "        self.fc = nn.Linear(8 * 13 * 13, 10)\n",
        "\n",
        "    def forward(self, x):\n",
        "        x = self.conv(x)\n",
        "        x = x = self.relu(x)\n",
        "        x = self.pool(x)\n",
        "        x = self.flatten(x)\n",
        "        x = self.fc(x)\n",
        "        return x"
      ],
      "metadata": {
        "id": "eSlXIzNifh0l"
      },
      "execution_count": null,
      "outputs": []
    },
    {
      "cell_type": "code",
      "source": [
        "# Model training\n",
        "\n",
        "model = CNN()\n",
        "optimizer = optim.Adam(model.parameters())\n",
        "criterion = nn.CrossEntropyLoss()"
      ],
      "metadata": {
        "id": "auXapfgBfhxe"
      },
      "execution_count": null,
      "outputs": []
    },
    {
      "cell_type": "code",
      "source": [
        "epochs = 10\n",
        "for epoch in range(epochs):\n",
        "    for images, labels in trainloader:\n",
        "        optimizer.zero_grad()\n",
        "        outputs = model(images)\n",
        "        loss = criterion(outputs, labels)\n",
        "        loss.backward()\n",
        "        optimizer.step()\n",
        "\n",
        "    # Accuracy\n",
        "    correct = 0\n",
        "    total = 0\n",
        "    with torch.no_grad():\n",
        "        for images, labels in testloader:\n",
        "            outputs = model(images)\n",
        "            _, predicted = torch.max(outputs.data, 1)\n",
        "            total += labels.size(0)\n",
        "            correct += (predicted == labels).sum().item()\n",
        "\n",
        "    print(f'Epoch {epoch+1}/{epochs}, Loss: {loss.item():.4f}, Accuracy: {100 * correct / total:.2f}%')"
      ],
      "metadata": {
        "id": "ENsD_uKAftsW"
      },
      "execution_count": null,
      "outputs": []
    },
    {
      "cell_type": "code",
      "source": [
        "\n",
        "# save the model\n",
        "torch.save(model.state_dict(), 'mnist_model.pth')\n",
        "print(\"model saved successfully\")"
      ],
      "metadata": {
        "id": "k2PDkLzaftnH"
      },
      "execution_count": null,
      "outputs": []
    },
    {
      "cell_type": "code",
      "source": [
        "# Image processing\n",
        "\n",
        "def preprocess_image(image):\n",
        "    transform = transforms.Compose([\n",
        "        transforms.Grayscale(num_output_channels=1),\n",
        "        transforms.Resize((28, 28)),\n",
        "        transforms.ToTensor(),\n",
        "    ])\n",
        "    return 1 - transform(image).unsqueeze(0)  # قلب الألوان فقط"
      ],
      "metadata": {
        "id": "kpVUCiBEftj-"
      },
      "execution_count": null,
      "outputs": []
    },
    {
      "cell_type": "code",
      "source": [
        "\n",
        "# App Interface\n",
        "\n",
        "import streamlit as st\n",
        "st.title(\"Draw a number\")\n",
        "st.write('Press the prediction button After you draw')\n",
        "st.markdown(\"Draw a number in the box below\")"
      ],
      "metadata": {
        "id": "llwnDIquftgm"
      },
      "execution_count": null,
      "outputs": []
    },
    {
      "cell_type": "code",
      "source": [
        "# drawing interface\n",
        "\n",
        "canvas_result = st_canvas(\n",
        "    fill_color=\"white\",\n",
        "    stroke_width=10,\n",
        "    stroke_color=\"white\",\n",
        "    background_color=\"black\",\n",
        "    width=200,\n",
        "    height=200,\n",
        "    drawing_mode=\"freedraw\",\n",
        "    key=\"canvas\"\n",
        ")"
      ],
      "metadata": {
        "id": "52pGxyQ4gDZ-"
      },
      "execution_count": null,
      "outputs": []
    },
    {
      "cell_type": "code",
      "source": [
        "\n",
        "if st.button('predict'):\n",
        " if canvas_result.image_data is not None:\n",
        "     image = Image.fromarray((canvas_result.image_data[:, :, 0]).astype(np.uint8))\n",
        "     resized_image = image.resize((28, 28))\n",
        "\n",
        "     st.image(resized_image, caption=\"Resized Input\", width=150)\n",
        "\n",
        "     input_tensor = preprocess_image(resized_image)\n",
        "\n",
        "     #\n",
        "     with torch.no_grad():\n",
        "         output = model(input_tensor)\n",
        "         pred = torch.argmax(output, dim=1).item()\n",
        "\n",
        "     st.success(f\"Predicted Digit: {pred}\")\n"
      ],
      "metadata": {
        "id": "2jMdc1d8gDV4"
      },
      "execution_count": null,
      "outputs": []
    },
    {
      "cell_type": "markdown",
      "source": [],
      "metadata": {
        "id": "zNpN1zs4uqk8"
      }
    },
    {
      "cell_type": "code",
      "source": [
        "###### Prediction\n",
        "\n",
        "\n",
        "if st.button('Predict'):\n",
        "    if canvas_result.image_data is not None:\n",
        "        # تحويل الصورة\n",
        "        img = Image.fromarray(canvas_result.image_data.astype('uint8')[:, :, 0])\n",
        "        img = img.resize((28, 28))\n",
        "\n",
        "        transform = transforms.Compose([\n",
        "            transforms.ToTensor(),\n",
        "            transforms.Normalize((0.1307,), (0.3081,))\n",
        "        ])\n",
        "        img_tensor = transform(img).unsqueeze(0)\n",
        "\n",
        "        # التنبؤ\n",
        "        with torch.no_grad():\n",
        "            output = model(img_tensor)\n",
        "            _, predicted = torch.max(output.data, 1)\n",
        "\n",
        "        st.success(f'The expected number is: {predicted.item()}')\n",
        "\n",
        "\n",
        "if st.button('delete'):\n",
        "    st.session_state.canvas = np.zeros((200, 200), dtype=np.uint8)\n",
        "    st.experimental_rerun()"
      ],
      "metadata": {
        "id": "zZ-6g1LotQzE"
      },
      "execution_count": null,
      "outputs": []
    },
    {
      "cell_type": "code",
      "source": [
        "!pip install streamlit pyngrok\n",
        "\n"
      ],
      "metadata": {
        "id": "_9g_0zBPZqIf"
      },
      "execution_count": null,
      "outputs": []
    },
    {
      "cell_type": "code",
      "source": [
        "from pyngrok import ngrok\n",
        "\n",
        "# ngrok\n",
        "ngrok.set_auth_token(\"2zP7EKipfh1OKxPcmvIuWzC0A4j_772E8dHV67mJKCciaMFeV\")\n",
        "\n",
        "# Run Streamlit\n",
        "get_ipython().system_raw('streamlit run app.py --server.port 8501 &')\n",
        "# شغل السيرفر على 8501\n",
        "#!streamlit run model.py --server.port 8501 >/dev/null 2>&1 &\n",
        "\n",
        "# git the link\n",
        "public_url = ngrok.connect(8501,'http')\n",
        "print(\"the link\", public_url)\n",
        "\n",
        "\n",
        "!streamlit run app.py &"
      ],
      "metadata": {
        "id": "P_YSz5VcZtUe"
      },
      "execution_count": null,
      "outputs": []
    }
  ]
}